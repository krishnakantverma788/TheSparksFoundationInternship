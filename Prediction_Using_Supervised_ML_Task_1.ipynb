{
 "cells": [
  {
   "cell_type": "markdown",
   "id": "a3bad05a",
   "metadata": {},
   "source": [
    "# <u> THE SPARKS FOUNDATION </u>\n"
   ]
  },
  {
   "cell_type": "markdown",
   "id": "d396fb12",
   "metadata": {},
   "source": [
    "## DATA SCIENCE AND BUSSINESS ANALYTICS INTERNSHIP\n",
    "\n",
    "## TASK-1 - PREDICTION USING SUPERVISED MACHINE LEARNING\n",
    "\n",
    "### PREDICT THE PERCENTAGE OF AN STUDENT BASED ON THE NO OF STUDY HOURS\n",
    "\n",
    "### BATCH: GRIP DECEMBER'21\n",
    "\n",
    "#### AUTHOR: KRISHNAKANT VERMA\n",
    "\n",
    "\n"
   ]
  },
  {
   "cell_type": "code",
   "execution_count": null,
   "id": "18ef0027",
   "metadata": {},
   "outputs": [],
   "source": []
  },
  {
   "cell_type": "markdown",
   "id": "9f89bac6",
   "metadata": {},
   "source": [
    "## IMPORTING LIBRARIES"
   ]
  },
  {
   "cell_type": "code",
   "execution_count": 2,
   "id": "4213f912",
   "metadata": {},
   "outputs": [],
   "source": [
    "import pandas as pd\n",
    "import numpy as np\n",
    "import matplotlib.pyplot as plt  \n",
    "%matplotlib inline "
   ]
  },
  {
   "cell_type": "markdown",
   "id": "105d9f69",
   "metadata": {},
   "source": [
    "## READING DATA FROM URL"
   ]
  },
  {
   "cell_type": "code",
   "execution_count": 11,
   "id": "7d44489f",
   "metadata": {},
   "outputs": [
    {
     "name": "stdout",
     "output_type": "stream",
     "text": [
      "Data imported successfully\n"
     ]
    },
    {
     "data": {
      "text/html": [
       "<div>\n",
       "<style scoped>\n",
       "    .dataframe tbody tr th:only-of-type {\n",
       "        vertical-align: middle;\n",
       "    }\n",
       "\n",
       "    .dataframe tbody tr th {\n",
       "        vertical-align: top;\n",
       "    }\n",
       "\n",
       "    .dataframe thead th {\n",
       "        text-align: right;\n",
       "    }\n",
       "</style>\n",
       "<table border=\"1\" class=\"dataframe\">\n",
       "  <thead>\n",
       "    <tr style=\"text-align: right;\">\n",
       "      <th></th>\n",
       "      <th>Hours</th>\n",
       "      <th>Scores</th>\n",
       "    </tr>\n",
       "  </thead>\n",
       "  <tbody>\n",
       "    <tr>\n",
       "      <th>0</th>\n",
       "      <td>2.5</td>\n",
       "      <td>21</td>\n",
       "    </tr>\n",
       "    <tr>\n",
       "      <th>1</th>\n",
       "      <td>5.1</td>\n",
       "      <td>47</td>\n",
       "    </tr>\n",
       "    <tr>\n",
       "      <th>2</th>\n",
       "      <td>3.2</td>\n",
       "      <td>27</td>\n",
       "    </tr>\n",
       "    <tr>\n",
       "      <th>3</th>\n",
       "      <td>8.5</td>\n",
       "      <td>75</td>\n",
       "    </tr>\n",
       "    <tr>\n",
       "      <th>4</th>\n",
       "      <td>3.5</td>\n",
       "      <td>30</td>\n",
       "    </tr>\n",
       "    <tr>\n",
       "      <th>5</th>\n",
       "      <td>1.5</td>\n",
       "      <td>20</td>\n",
       "    </tr>\n",
       "    <tr>\n",
       "      <th>6</th>\n",
       "      <td>9.2</td>\n",
       "      <td>88</td>\n",
       "    </tr>\n",
       "    <tr>\n",
       "      <th>7</th>\n",
       "      <td>5.5</td>\n",
       "      <td>60</td>\n",
       "    </tr>\n",
       "    <tr>\n",
       "      <th>8</th>\n",
       "      <td>8.3</td>\n",
       "      <td>81</td>\n",
       "    </tr>\n",
       "    <tr>\n",
       "      <th>9</th>\n",
       "      <td>2.7</td>\n",
       "      <td>25</td>\n",
       "    </tr>\n",
       "    <tr>\n",
       "      <th>10</th>\n",
       "      <td>7.7</td>\n",
       "      <td>85</td>\n",
       "    </tr>\n",
       "    <tr>\n",
       "      <th>11</th>\n",
       "      <td>5.9</td>\n",
       "      <td>62</td>\n",
       "    </tr>\n",
       "    <tr>\n",
       "      <th>12</th>\n",
       "      <td>4.5</td>\n",
       "      <td>41</td>\n",
       "    </tr>\n",
       "    <tr>\n",
       "      <th>13</th>\n",
       "      <td>3.3</td>\n",
       "      <td>42</td>\n",
       "    </tr>\n",
       "    <tr>\n",
       "      <th>14</th>\n",
       "      <td>1.1</td>\n",
       "      <td>17</td>\n",
       "    </tr>\n",
       "  </tbody>\n",
       "</table>\n",
       "</div>"
      ],
      "text/plain": [
       "    Hours  Scores\n",
       "0     2.5      21\n",
       "1     5.1      47\n",
       "2     3.2      27\n",
       "3     8.5      75\n",
       "4     3.5      30\n",
       "5     1.5      20\n",
       "6     9.2      88\n",
       "7     5.5      60\n",
       "8     8.3      81\n",
       "9     2.7      25\n",
       "10    7.7      85\n",
       "11    5.9      62\n",
       "12    4.5      41\n",
       "13    3.3      42\n",
       "14    1.1      17"
      ]
     },
     "execution_count": 11,
     "metadata": {},
     "output_type": "execute_result"
    }
   ],
   "source": [
    "# Reading data from remote link\n",
    "url = \"http://bit.ly/w-data\"\n",
    "student_data = pd.read_csv(url)\n",
    "print(\"Data imported successfully\")\n",
    "\n",
    "student_data.head(15)"
   ]
  },
  {
   "cell_type": "markdown",
   "id": "7385edc5",
   "metadata": {},
   "source": [
    "## Now I'll plot our data points on 2-D graph to see if any relationship in between our data.\n"
   ]
  },
  {
   "cell_type": "code",
   "execution_count": 12,
   "id": "6782a9cc",
   "metadata": {},
   "outputs": [
    {
     "data": {
      "image/png": "[encoded data removed]",
      "text/plain": [
       "<Figure size 432x288 with 1 Axes>"
      ]
     },
     "metadata": {
      "needs_background": "light"
     },
     "output_type": "display_data"
    }
   ],
   "source": [
    "student_data.plot(x='Hours', y='Scores',style=\"o\") # we can use markers to get more clear view when needed\n",
    "plt.title('Hours vs Percentage')  \n",
    "plt.xlabel('Hours Studied by student')  \n",
    "plt.ylabel('Percentage Scored By student')  \n",
    "plt.show()"
   ]
  },
  {
   "cell_type": "markdown",
   "id": "83b76f6c",
   "metadata": {},
   "source": [
    "## I'll now divide data into \"Attributes\" (inputs) and \"Labels\" (outputs).\n"
   ]
  },
  {
   "cell_type": "code",
   "execution_count": 15,
   "id": "fa7cdae2",
   "metadata": {},
   "outputs": [
    {
     "name": "stdout",
     "output_type": "stream",
     "text": [
      "[[2.5]\n",
      " [5.1]\n",
      " [3.2]\n",
      " [8.5]\n",
      " [3.5]\n",
      " [1.5]\n",
      " [9.2]\n",
      " [5.5]\n",
      " [8.3]\n",
      " [2.7]\n",
      " [7.7]\n",
      " [5.9]\n",
      " [4.5]\n",
      " [3.3]\n",
      " [1.1]\n",
      " [8.9]\n",
      " [2.5]\n",
      " [1.9]\n",
      " [6.1]\n",
      " [7.4]\n",
      " [2.7]\n",
      " [4.8]\n",
      " [3.8]\n",
      " [6.9]\n",
      " [7.8]]\n"
     ]
    }
   ],
   "source": [
    "# attribute means the inputs on which we are going to predict\n",
    "# label is what we are going to predict (percentage)\n",
    "\n",
    "X= student_data.iloc[:, :-1].values  \n",
    "Y= student_data.iloc[:, 1].values  \n",
    "\n",
    "#iloc is integer-location based indexing for selection by position.\n",
    "\n",
    "print(X)"
   ]
  },
  {
   "cell_type": "code",
   "execution_count": 16,
   "id": "feb4146f",
   "metadata": {},
   "outputs": [
    {
     "name": "stdout",
     "output_type": "stream",
     "text": [
      "[2.5] [5.1] [3.2] [8.5] [3.5] [1.5] [9.2] [5.5] [8.3] [2.7] [7.7] [5.9] [4.5] [3.3] [1.1] [8.9] [2.5] [1.9] [6.1] [7.4] [2.7] [4.8] [3.8] [6.9] [7.8]\n"
     ]
    }
   ],
   "source": [
    "# unpacking operator *\n",
    "\n",
    "print(*X)  \n"
   ]
  },
  {
   "cell_type": "code",
   "execution_count": 17,
   "id": "78a81bf9",
   "metadata": {},
   "outputs": [
    {
     "name": "stdout",
     "output_type": "stream",
     "text": [
      "[21 47 27 75 30 20 88 60 81 25 85 62 41 42 17 95 30 24 67 69 30 54 35 76\n",
      " 86]\n"
     ]
    }
   ],
   "source": [
    "print(Y)"
   ]
  },
  {
   "cell_type": "markdown",
   "id": "dbaa1519",
   "metadata": {},
   "source": [
    "####  using Scikit-Learn's built-in train_test_split() method"
   ]
  },
  {
   "cell_type": "code",
   "execution_count": 18,
   "id": "73bc5db1",
   "metadata": {},
   "outputs": [],
   "source": [
    "from sklearn.model_selection import train_test_split  \n",
    "X_train, X_test, y_train, y_test = train_test_split(X, Y, test_size=0.4) "
   ]
  },
  {
   "cell_type": "markdown",
   "id": "6caff9cd",
   "metadata": {},
   "source": [
    "## TRAINING THE ALGORITHM\n"
   ]
  },
  {
   "cell_type": "code",
   "execution_count": 19,
   "id": "6ed4e339",
   "metadata": {},
   "outputs": [
    {
     "name": "stdout",
     "output_type": "stream",
     "text": [
      "Training is completed\n"
     ]
    }
   ],
   "source": [
    "# spliting students data into training and testing sets\n",
    "\n",
    "# i'll use linear regression to predict the value of a X (independent variable) based on the value of Y(dependent)\n",
    "\n",
    "from sklearn.linear_model import LinearRegression  \n",
    "regressor_data = LinearRegression()  \n",
    "regressor_data.fit(X_train, y_train) \n",
    "print(\"Training is completed\")"
   ]
  },
  {
   "cell_type": "code",
   "execution_count": 20,
   "id": "754089fe",
   "metadata": {},
   "outputs": [],
   "source": [
    "# Plotting the regression line for further prediction\n",
    "\n",
    "line = regressor_data.coef_*X+regressor_data.intercept_\n",
    "\n",
    "# coef is the coefficients for the prediction of each targets\n",
    "# intercept will be the point where function crosses the y-axis.( mean value of Y when all X=0.)"
   ]
  },
  {
   "cell_type": "code",
   "execution_count": 21,
   "id": "a42b122c",
   "metadata": {},
   "outputs": [
    {
     "data": {
      "image/png": "[encoded data removed]",
      "text/plain": [
       "<Figure size 432x288 with 1 Axes>"
      ]
     },
     "metadata": {
      "needs_background": "light"
     },
     "output_type": "display_data"
    }
   ],
   "source": [
    "# Plotting the test data using scatter plot\n",
    "\n",
    "plt.scatter(X, Y)\n",
    "plt.plot(X, line);\n",
    "plt.show()"
   ]
  },
  {
   "cell_type": "markdown",
   "id": "694e1d37",
   "metadata": {},
   "source": [
    "## Prediction"
   ]
  },
  {
   "cell_type": "code",
   "execution_count": 22,
   "id": "506e160c",
   "metadata": {},
   "outputs": [
    {
     "name": "stdout",
     "output_type": "stream",
     "text": [
      "[[8.9]\n",
      " [3.2]\n",
      " [3.5]\n",
      " [7.7]\n",
      " [6.1]\n",
      " [4.5]\n",
      " [4.8]\n",
      " [8.3]\n",
      " [5.5]\n",
      " [7.8]]\n"
     ]
    }
   ],
   "source": [
    "# Testing data - In Hours\n",
    "\n",
    "print(X_test)"
   ]
  },
  {
   "cell_type": "markdown",
   "id": "76df3c4b",
   "metadata": {},
   "source": [
    "### Predicting Scores"
   ]
  },
  {
   "cell_type": "code",
   "execution_count": 25,
   "id": "55eb9e11",
   "metadata": {},
   "outputs": [
    {
     "data": {
      "text/plain": [
       "array([84.42618496, 34.05043585, 36.70179107, 73.8207641 , 59.68020294,\n",
       "       45.53964179, 48.190997  , 79.12347453, 54.37749251, 74.70454917])"
      ]
     },
     "execution_count": 25,
     "metadata": {},
     "output_type": "execute_result"
    }
   ],
   "source": [
    "predict_y= regressor_data.predict(X_test)\n",
    "predict_y"
   ]
  },
  {
   "cell_type": "markdown",
   "id": "33ccbd46",
   "metadata": {},
   "source": [
    "### Comparing Actual data VS Predicted"
   ]
  },
  {
   "cell_type": "code",
   "execution_count": 26,
   "id": "bbfa54ea",
   "metadata": {},
   "outputs": [
    {
     "data": {
      "text/html": [
       "<div>\n",
       "<style scoped>\n",
       "    .dataframe tbody tr th:only-of-type {\n",
       "        vertical-align: middle;\n",
       "    }\n",
       "\n",
       "    .dataframe tbody tr th {\n",
       "        vertical-align: top;\n",
       "    }\n",
       "\n",
       "    .dataframe thead th {\n",
       "        text-align: right;\n",
       "    }\n",
       "</style>\n",
       "<table border=\"1\" class=\"dataframe\">\n",
       "  <thead>\n",
       "    <tr style=\"text-align: right;\">\n",
       "      <th></th>\n",
       "      <th>Actual</th>\n",
       "      <th>Predicted</th>\n",
       "    </tr>\n",
       "  </thead>\n",
       "  <tbody>\n",
       "    <tr>\n",
       "      <th>0</th>\n",
       "      <td>95</td>\n",
       "      <td>84.426185</td>\n",
       "    </tr>\n",
       "    <tr>\n",
       "      <th>1</th>\n",
       "      <td>27</td>\n",
       "      <td>34.050436</td>\n",
       "    </tr>\n",
       "    <tr>\n",
       "      <th>2</th>\n",
       "      <td>30</td>\n",
       "      <td>36.701791</td>\n",
       "    </tr>\n",
       "    <tr>\n",
       "      <th>3</th>\n",
       "      <td>85</td>\n",
       "      <td>73.820764</td>\n",
       "    </tr>\n",
       "    <tr>\n",
       "      <th>4</th>\n",
       "      <td>67</td>\n",
       "      <td>59.680203</td>\n",
       "    </tr>\n",
       "    <tr>\n",
       "      <th>5</th>\n",
       "      <td>41</td>\n",
       "      <td>45.539642</td>\n",
       "    </tr>\n",
       "    <tr>\n",
       "      <th>6</th>\n",
       "      <td>54</td>\n",
       "      <td>48.190997</td>\n",
       "    </tr>\n",
       "    <tr>\n",
       "      <th>7</th>\n",
       "      <td>81</td>\n",
       "      <td>79.123475</td>\n",
       "    </tr>\n",
       "    <tr>\n",
       "      <th>8</th>\n",
       "      <td>60</td>\n",
       "      <td>54.377493</td>\n",
       "    </tr>\n",
       "    <tr>\n",
       "      <th>9</th>\n",
       "      <td>86</td>\n",
       "      <td>74.704549</td>\n",
       "    </tr>\n",
       "  </tbody>\n",
       "</table>\n",
       "</div>"
      ],
      "text/plain": [
       "   Actual  Predicted\n",
       "0      95  84.426185\n",
       "1      27  34.050436\n",
       "2      30  36.701791\n",
       "3      85  73.820764\n",
       "4      67  59.680203\n",
       "5      41  45.539642\n",
       "6      54  48.190997\n",
       "7      81  79.123475\n",
       "8      60  54.377493\n",
       "9      86  74.704549"
      ]
     },
     "execution_count": 26,
     "metadata": {},
     "output_type": "execute_result"
    }
   ],
   "source": [
    "data_frame = pd.DataFrame({'Actual': y_test, 'Predicted': predict_y})  \n",
    "data_frame"
   ]
  },
  {
   "cell_type": "markdown",
   "id": "70bb164a",
   "metadata": {},
   "source": [
    "## Predicting the score for 9.25 hour of study"
   ]
  },
  {
   "cell_type": "code",
   "execution_count": 27,
   "id": "2ce0cddb",
   "metadata": {},
   "outputs": [
    {
     "name": "stdout",
     "output_type": "stream",
     "text": [
      "No of Hours= 9.25\n",
      "Predicted Score = 87.51943271588124\n"
     ]
    }
   ],
   "source": [
    "hours = 9.25\n",
    "prediction = regressor_data.predict([[hours]])\n",
    "print(\"No of Hours=\",hours)\n",
    "print(\"Predicted Score =\",prediction[0])"
   ]
  },
  {
   "cell_type": "markdown",
   "id": "91673c00",
   "metadata": {},
   "source": [
    "## Evaluating the model\n",
    "\n",
    "#### now i'll evaluate performance. we will compare how well different algorithms perform on a particular dataset."
   ]
  },
  {
   "cell_type": "code",
   "execution_count": 29,
   "id": "7c9108a7",
   "metadata": {},
   "outputs": [
    {
     "name": "stdout",
     "output_type": "stream",
     "text": [
      "Mean Absolute Error: 7.19682034867883\n"
     ]
    }
   ],
   "source": [
    "#importing libraries\n",
    "from sklearn import metrics  \n",
    "# the amount of error in your measurements.we can find that by MEAN ABSOLUTE ERRORS\n",
    "\n",
    "print('Mean Absolute Error:', \n",
    "      metrics.mean_absolute_error(y_test,predict_y)) "
   ]
  },
  {
   "cell_type": "markdown",
   "id": "94360158",
   "metadata": {},
   "source": [
    "### Thank You"
   ]
  },
  {
   "cell_type": "code",
   "execution_count": null,
   "id": "ca07cc50",
   "metadata": {},
   "outputs": [],
   "source": []
  }
 ],
 "metadata": {
  "kernelspec": {
   "display_name": "Python 3",
   "language": "python",
   "name": "python3"
  },
  "language_info": {
   "codemirror_mode": {
    "name": "ipython",
    "version": 3
   },
   "file_extension": ".py",
   "mimetype": "text/x-python",
   "name": "python",
   "nbconvert_exporter": "python",
   "pygments_lexer": "ipython3",
   "version": "3.8.8"
  }
 },
 "nbformat": 4,
 "nbformat_minor": 5
}
